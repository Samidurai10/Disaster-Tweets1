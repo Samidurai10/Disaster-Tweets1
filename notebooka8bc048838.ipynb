{
 "cells": [
  {
   "cell_type": "code",
   "execution_count": 1,
   "id": "361926ae",
   "metadata": {
    "_cell_guid": "b1076dfc-b9ad-4769-8c92-a6c4dae69d19",
    "_uuid": "8f2839f25d086af736a60e9eeb907d3b93b6e0e5",
    "execution": {
     "iopub.execute_input": "2022-04-29T18:02:12.793572Z",
     "iopub.status.busy": "2022-04-29T18:02:12.793194Z",
     "iopub.status.idle": "2022-04-29T18:02:12.806790Z",
     "shell.execute_reply": "2022-04-29T18:02:12.806002Z"
    },
    "papermill": {
     "duration": 0.048125,
     "end_time": "2022-04-29T18:02:12.809039",
     "exception": false,
     "start_time": "2022-04-29T18:02:12.760914",
     "status": "completed"
    },
    "tags": []
   },
   "outputs": [
    {
     "name": "stdout",
     "output_type": "stream",
     "text": [
      "/kaggle/input/nlp-getting-started/sample_submission.csv\n",
      "/kaggle/input/nlp-getting-started/train.csv\n",
      "/kaggle/input/nlp-getting-started/test.csv\n"
     ]
    }
   ],
   "source": [
    "# This Python 3 environment comes with many helpful analytics libraries installed\n",
    "# It is defined by the kaggle/python Docker image: https://github.com/kaggle/docker-python\n",
    "# For example, here's several helpful packages to load\n",
    "\n",
    "import numpy as np # linear algebra\n",
    "import pandas as pd # data processing, CSV file I/O (e.g. pd.read_csv)\n",
    "\n",
    "# Input data files are available in the read-only \"../input/\" directory\n",
    "# For example, running this (by clicking run or pressing Shift+Enter) will list all files under the input directory\n",
    "\n",
    "import os\n",
    "for dirname, _, filenames in os.walk('/kaggle/input'):\n",
    "    for filename in filenames:\n",
    "        print(os.path.join(dirname, filename))\n",
    "\n",
    "# You can write up to 20GB to the current directory (/kaggle/working/) that gets preserved as output when you create a version using \"Save & Run All\" \n",
    "# You can also write temporary files to /kaggle/temp/, but they won't be saved outside of the current session"
   ]
  },
  {
   "cell_type": "code",
   "execution_count": 2,
   "id": "b2406f28",
   "metadata": {
    "execution": {
     "iopub.execute_input": "2022-04-29T18:02:12.872116Z",
     "iopub.status.busy": "2022-04-29T18:02:12.871380Z",
     "iopub.status.idle": "2022-04-29T18:02:12.942243Z",
     "shell.execute_reply": "2022-04-29T18:02:12.941367Z"
    },
    "papermill": {
     "duration": 0.104301,
     "end_time": "2022-04-29T18:02:12.944727",
     "exception": false,
     "start_time": "2022-04-29T18:02:12.840426",
     "status": "completed"
    },
    "tags": []
   },
   "outputs": [],
   "source": [
    "df=pd.read_csv('/kaggle/input/nlp-getting-started/train.csv')\n",
    "df1=pd.read_csv('/kaggle/input/nlp-getting-started/test.csv')"
   ]
  },
  {
   "cell_type": "code",
   "execution_count": 3,
   "id": "40999d33",
   "metadata": {
    "execution": {
     "iopub.execute_input": "2022-04-29T18:02:13.010405Z",
     "iopub.status.busy": "2022-04-29T18:02:13.010008Z",
     "iopub.status.idle": "2022-04-29T18:02:13.014983Z",
     "shell.execute_reply": "2022-04-29T18:02:13.014214Z"
    },
    "papermill": {
     "duration": 0.039827,
     "end_time": "2022-04-29T18:02:13.017206",
     "exception": false,
     "start_time": "2022-04-29T18:02:12.977379",
     "status": "completed"
    },
    "tags": []
   },
   "outputs": [],
   "source": [
    "import pandas as pd\n",
    "import warnings\n",
    "warnings.filterwarnings(\"ignore\")"
   ]
  },
  {
   "cell_type": "code",
   "execution_count": 4,
   "id": "012e6727",
   "metadata": {
    "execution": {
     "iopub.execute_input": "2022-04-29T18:02:13.100088Z",
     "iopub.status.busy": "2022-04-29T18:02:13.099447Z",
     "iopub.status.idle": "2022-04-29T18:02:13.122698Z",
     "shell.execute_reply": "2022-04-29T18:02:13.121745Z"
    },
    "papermill": {
     "duration": 0.062877,
     "end_time": "2022-04-29T18:02:13.125193",
     "exception": false,
     "start_time": "2022-04-29T18:02:13.062316",
     "status": "completed"
    },
    "tags": []
   },
   "outputs": [
    {
     "data": {
      "text/html": [
       "<div>\n",
       "<style scoped>\n",
       "    .dataframe tbody tr th:only-of-type {\n",
       "        vertical-align: middle;\n",
       "    }\n",
       "\n",
       "    .dataframe tbody tr th {\n",
       "        vertical-align: top;\n",
       "    }\n",
       "\n",
       "    .dataframe thead th {\n",
       "        text-align: right;\n",
       "    }\n",
       "</style>\n",
       "<table border=\"1\" class=\"dataframe\">\n",
       "  <thead>\n",
       "    <tr style=\"text-align: right;\">\n",
       "      <th></th>\n",
       "      <th>id</th>\n",
       "      <th>keyword</th>\n",
       "      <th>location</th>\n",
       "      <th>text</th>\n",
       "      <th>target</th>\n",
       "    </tr>\n",
       "  </thead>\n",
       "  <tbody>\n",
       "    <tr>\n",
       "      <th>0</th>\n",
       "      <td>1</td>\n",
       "      <td>NaN</td>\n",
       "      <td>NaN</td>\n",
       "      <td>Our Deeds are the Reason of this #earthquake M...</td>\n",
       "      <td>1</td>\n",
       "    </tr>\n",
       "    <tr>\n",
       "      <th>1</th>\n",
       "      <td>4</td>\n",
       "      <td>NaN</td>\n",
       "      <td>NaN</td>\n",
       "      <td>Forest fire near La Ronge Sask. Canada</td>\n",
       "      <td>1</td>\n",
       "    </tr>\n",
       "    <tr>\n",
       "      <th>2</th>\n",
       "      <td>5</td>\n",
       "      <td>NaN</td>\n",
       "      <td>NaN</td>\n",
       "      <td>All residents asked to 'shelter in place' are ...</td>\n",
       "      <td>1</td>\n",
       "    </tr>\n",
       "    <tr>\n",
       "      <th>3</th>\n",
       "      <td>6</td>\n",
       "      <td>NaN</td>\n",
       "      <td>NaN</td>\n",
       "      <td>13,000 people receive #wildfires evacuation or...</td>\n",
       "      <td>1</td>\n",
       "    </tr>\n",
       "    <tr>\n",
       "      <th>4</th>\n",
       "      <td>7</td>\n",
       "      <td>NaN</td>\n",
       "      <td>NaN</td>\n",
       "      <td>Just got sent this photo from Ruby #Alaska as ...</td>\n",
       "      <td>1</td>\n",
       "    </tr>\n",
       "    <tr>\n",
       "      <th>5</th>\n",
       "      <td>8</td>\n",
       "      <td>NaN</td>\n",
       "      <td>NaN</td>\n",
       "      <td>#RockyFire Update =&gt; California Hwy. 20 closed...</td>\n",
       "      <td>1</td>\n",
       "    </tr>\n",
       "    <tr>\n",
       "      <th>6</th>\n",
       "      <td>10</td>\n",
       "      <td>NaN</td>\n",
       "      <td>NaN</td>\n",
       "      <td>#flood #disaster Heavy rain causes flash flood...</td>\n",
       "      <td>1</td>\n",
       "    </tr>\n",
       "    <tr>\n",
       "      <th>7</th>\n",
       "      <td>13</td>\n",
       "      <td>NaN</td>\n",
       "      <td>NaN</td>\n",
       "      <td>I'm on top of the hill and I can see a fire in...</td>\n",
       "      <td>1</td>\n",
       "    </tr>\n",
       "    <tr>\n",
       "      <th>8</th>\n",
       "      <td>14</td>\n",
       "      <td>NaN</td>\n",
       "      <td>NaN</td>\n",
       "      <td>There's an emergency evacuation happening now ...</td>\n",
       "      <td>1</td>\n",
       "    </tr>\n",
       "    <tr>\n",
       "      <th>9</th>\n",
       "      <td>15</td>\n",
       "      <td>NaN</td>\n",
       "      <td>NaN</td>\n",
       "      <td>I'm afraid that the tornado is coming to our a...</td>\n",
       "      <td>1</td>\n",
       "    </tr>\n",
       "    <tr>\n",
       "      <th>10</th>\n",
       "      <td>16</td>\n",
       "      <td>NaN</td>\n",
       "      <td>NaN</td>\n",
       "      <td>Three people died from the heat wave so far</td>\n",
       "      <td>1</td>\n",
       "    </tr>\n",
       "    <tr>\n",
       "      <th>11</th>\n",
       "      <td>17</td>\n",
       "      <td>NaN</td>\n",
       "      <td>NaN</td>\n",
       "      <td>Haha South Tampa is getting flooded hah- WAIT ...</td>\n",
       "      <td>1</td>\n",
       "    </tr>\n",
       "    <tr>\n",
       "      <th>12</th>\n",
       "      <td>18</td>\n",
       "      <td>NaN</td>\n",
       "      <td>NaN</td>\n",
       "      <td>#raining #flooding #Florida #TampaBay #Tampa 1...</td>\n",
       "      <td>1</td>\n",
       "    </tr>\n",
       "    <tr>\n",
       "      <th>13</th>\n",
       "      <td>19</td>\n",
       "      <td>NaN</td>\n",
       "      <td>NaN</td>\n",
       "      <td>#Flood in Bago Myanmar #We arrived Bago</td>\n",
       "      <td>1</td>\n",
       "    </tr>\n",
       "    <tr>\n",
       "      <th>14</th>\n",
       "      <td>20</td>\n",
       "      <td>NaN</td>\n",
       "      <td>NaN</td>\n",
       "      <td>Damage to school bus on 80 in multi car crash ...</td>\n",
       "      <td>1</td>\n",
       "    </tr>\n",
       "    <tr>\n",
       "      <th>15</th>\n",
       "      <td>23</td>\n",
       "      <td>NaN</td>\n",
       "      <td>NaN</td>\n",
       "      <td>What's up man?</td>\n",
       "      <td>0</td>\n",
       "    </tr>\n",
       "    <tr>\n",
       "      <th>16</th>\n",
       "      <td>24</td>\n",
       "      <td>NaN</td>\n",
       "      <td>NaN</td>\n",
       "      <td>I love fruits</td>\n",
       "      <td>0</td>\n",
       "    </tr>\n",
       "    <tr>\n",
       "      <th>17</th>\n",
       "      <td>25</td>\n",
       "      <td>NaN</td>\n",
       "      <td>NaN</td>\n",
       "      <td>Summer is lovely</td>\n",
       "      <td>0</td>\n",
       "    </tr>\n",
       "    <tr>\n",
       "      <th>18</th>\n",
       "      <td>26</td>\n",
       "      <td>NaN</td>\n",
       "      <td>NaN</td>\n",
       "      <td>My car is so fast</td>\n",
       "      <td>0</td>\n",
       "    </tr>\n",
       "    <tr>\n",
       "      <th>19</th>\n",
       "      <td>28</td>\n",
       "      <td>NaN</td>\n",
       "      <td>NaN</td>\n",
       "      <td>What a goooooooaaaaaal!!!!!!</td>\n",
       "      <td>0</td>\n",
       "    </tr>\n",
       "  </tbody>\n",
       "</table>\n",
       "</div>"
      ],
      "text/plain": [
       "    id keyword location                                               text  \\\n",
       "0    1     NaN      NaN  Our Deeds are the Reason of this #earthquake M...   \n",
       "1    4     NaN      NaN             Forest fire near La Ronge Sask. Canada   \n",
       "2    5     NaN      NaN  All residents asked to 'shelter in place' are ...   \n",
       "3    6     NaN      NaN  13,000 people receive #wildfires evacuation or...   \n",
       "4    7     NaN      NaN  Just got sent this photo from Ruby #Alaska as ...   \n",
       "5    8     NaN      NaN  #RockyFire Update => California Hwy. 20 closed...   \n",
       "6   10     NaN      NaN  #flood #disaster Heavy rain causes flash flood...   \n",
       "7   13     NaN      NaN  I'm on top of the hill and I can see a fire in...   \n",
       "8   14     NaN      NaN  There's an emergency evacuation happening now ...   \n",
       "9   15     NaN      NaN  I'm afraid that the tornado is coming to our a...   \n",
       "10  16     NaN      NaN        Three people died from the heat wave so far   \n",
       "11  17     NaN      NaN  Haha South Tampa is getting flooded hah- WAIT ...   \n",
       "12  18     NaN      NaN  #raining #flooding #Florida #TampaBay #Tampa 1...   \n",
       "13  19     NaN      NaN            #Flood in Bago Myanmar #We arrived Bago   \n",
       "14  20     NaN      NaN  Damage to school bus on 80 in multi car crash ...   \n",
       "15  23     NaN      NaN                                     What's up man?   \n",
       "16  24     NaN      NaN                                      I love fruits   \n",
       "17  25     NaN      NaN                                   Summer is lovely   \n",
       "18  26     NaN      NaN                                  My car is so fast   \n",
       "19  28     NaN      NaN                       What a goooooooaaaaaal!!!!!!   \n",
       "\n",
       "    target  \n",
       "0        1  \n",
       "1        1  \n",
       "2        1  \n",
       "3        1  \n",
       "4        1  \n",
       "5        1  \n",
       "6        1  \n",
       "7        1  \n",
       "8        1  \n",
       "9        1  \n",
       "10       1  \n",
       "11       1  \n",
       "12       1  \n",
       "13       1  \n",
       "14       1  \n",
       "15       0  \n",
       "16       0  \n",
       "17       0  \n",
       "18       0  \n",
       "19       0  "
      ]
     },
     "execution_count": 4,
     "metadata": {},
     "output_type": "execute_result"
    }
   ],
   "source": [
    "df.head(20)"
   ]
  },
  {
   "cell_type": "code",
   "execution_count": 5,
   "id": "2d896d38",
   "metadata": {
    "execution": {
     "iopub.execute_input": "2022-04-29T18:02:13.188547Z",
     "iopub.status.busy": "2022-04-29T18:02:13.187979Z",
     "iopub.status.idle": "2022-04-29T18:02:13.204779Z",
     "shell.execute_reply": "2022-04-29T18:02:13.203768Z"
    },
    "papermill": {
     "duration": 0.051471,
     "end_time": "2022-04-29T18:02:13.207324",
     "exception": false,
     "start_time": "2022-04-29T18:02:13.155853",
     "status": "completed"
    },
    "tags": []
   },
   "outputs": [],
   "source": [
    "df[\"text\"] = df[\"text\"].apply(lambda x: x.lower())\n",
    "df1[\"text\"] = df1[\"text\"].apply(lambda x: x.lower())"
   ]
  },
  {
   "cell_type": "code",
   "execution_count": 6,
   "id": "ee584acc",
   "metadata": {
    "execution": {
     "iopub.execute_input": "2022-04-29T18:02:13.271961Z",
     "iopub.status.busy": "2022-04-29T18:02:13.271677Z",
     "iopub.status.idle": "2022-04-29T18:02:13.275621Z",
     "shell.execute_reply": "2022-04-29T18:02:13.274713Z"
    },
    "papermill": {
     "duration": 0.038024,
     "end_time": "2022-04-29T18:02:13.277688",
     "exception": false,
     "start_time": "2022-04-29T18:02:13.239664",
     "status": "completed"
    },
    "tags": []
   },
   "outputs": [],
   "source": [
    "import re"
   ]
  },
  {
   "cell_type": "code",
   "execution_count": 7,
   "id": "aad2e518",
   "metadata": {
    "execution": {
     "iopub.execute_input": "2022-04-29T18:02:13.341819Z",
     "iopub.status.busy": "2022-04-29T18:02:13.341552Z",
     "iopub.status.idle": "2022-04-29T18:02:13.399961Z",
     "shell.execute_reply": "2022-04-29T18:02:13.399154Z"
    },
    "papermill": {
     "duration": 0.092487,
     "end_time": "2022-04-29T18:02:13.402415",
     "exception": false,
     "start_time": "2022-04-29T18:02:13.309928",
     "status": "completed"
    },
    "tags": []
   },
   "outputs": [],
   "source": [
    "def remove_URL(text):\n",
    "    return re.sub(r\"https?://\\S+|www\\.\\S+\", \"\", text)\n",
    "\n",
    "df[\"text\"] = df[\"text\"].apply(lambda x: remove_URL(x))\n",
    "df1[\"text\"] = df1[\"text\"].apply(lambda x: remove_URL(x))"
   ]
  },
  {
   "cell_type": "code",
   "execution_count": 8,
   "id": "6b612e94",
   "metadata": {
    "execution": {
     "iopub.execute_input": "2022-04-29T18:02:13.466888Z",
     "iopub.status.busy": "2022-04-29T18:02:13.466603Z",
     "iopub.status.idle": "2022-04-29T18:02:13.532308Z",
     "shell.execute_reply": "2022-04-29T18:02:13.531506Z"
    },
    "papermill": {
     "duration": 0.101307,
     "end_time": "2022-04-29T18:02:13.534831",
     "exception": false,
     "start_time": "2022-04-29T18:02:13.433524",
     "status": "completed"
    },
    "tags": []
   },
   "outputs": [],
   "source": [
    "def remove_html(text):\n",
    "    html = re.compile(r\"<.*?>|&([a-z0-9]+|#[0-9]{1,6}|#x[0-9a-f]{1,6});\")\n",
    "    return re.sub(html, \"\", text)\n",
    "\n",
    "df[\"text\"] = df[\"text\"].apply(lambda x: remove_html(x))\n",
    "df1[\"text\"] = df1[\"text\"].apply(lambda x: remove_html(x))"
   ]
  },
  {
   "cell_type": "code",
   "execution_count": 9,
   "id": "ae7ea482",
   "metadata": {
    "execution": {
     "iopub.execute_input": "2022-04-29T18:02:13.597932Z",
     "iopub.status.busy": "2022-04-29T18:02:13.597660Z",
     "iopub.status.idle": "2022-04-29T18:02:13.601277Z",
     "shell.execute_reply": "2022-04-29T18:02:13.600460Z"
    },
    "papermill": {
     "duration": 0.037606,
     "end_time": "2022-04-29T18:02:13.603270",
     "exception": false,
     "start_time": "2022-04-29T18:02:13.565664",
     "status": "completed"
    },
    "tags": []
   },
   "outputs": [],
   "source": [
    "import string"
   ]
  },
  {
   "cell_type": "code",
   "execution_count": 10,
   "id": "a9e79cc8",
   "metadata": {
    "execution": {
     "iopub.execute_input": "2022-04-29T18:02:13.665692Z",
     "iopub.status.busy": "2022-04-29T18:02:13.665188Z",
     "iopub.status.idle": "2022-04-29T18:02:13.734785Z",
     "shell.execute_reply": "2022-04-29T18:02:13.733711Z"
    },
    "papermill": {
     "duration": 0.103456,
     "end_time": "2022-04-29T18:02:13.737171",
     "exception": false,
     "start_time": "2022-04-29T18:02:13.633715",
     "status": "completed"
    },
    "tags": []
   },
   "outputs": [],
   "source": [
    "def remove_punct(text):\n",
    "    return text.translate(str.maketrans('', '', string.punctuation))\n",
    "\n",
    "\n",
    "df[\"text\"] = df[\"text\"].apply(lambda x: remove_punct(x))\n",
    "df1[\"text\"] = df1[\"text\"].apply(lambda x: remove_punct(x))"
   ]
  },
  {
   "cell_type": "code",
   "execution_count": 11,
   "id": "debcd291",
   "metadata": {
    "execution": {
     "iopub.execute_input": "2022-04-29T18:02:13.799409Z",
     "iopub.status.busy": "2022-04-29T18:02:13.799077Z",
     "iopub.status.idle": "2022-04-29T18:02:13.812373Z",
     "shell.execute_reply": "2022-04-29T18:02:13.811600Z"
    },
    "papermill": {
     "duration": 0.046828,
     "end_time": "2022-04-29T18:02:13.814406",
     "exception": false,
     "start_time": "2022-04-29T18:02:13.767578",
     "status": "completed"
    },
    "tags": []
   },
   "outputs": [],
   "source": [
    "df = df.drop('keyword', axis=1)\n",
    "df1 = df1.drop('keyword', axis=1)"
   ]
  },
  {
   "cell_type": "code",
   "execution_count": 12,
   "id": "1c580add",
   "metadata": {
    "execution": {
     "iopub.execute_input": "2022-04-29T18:02:13.877507Z",
     "iopub.status.busy": "2022-04-29T18:02:13.876879Z",
     "iopub.status.idle": "2022-04-29T18:02:13.883308Z",
     "shell.execute_reply": "2022-04-29T18:02:13.882728Z"
    },
    "papermill": {
     "duration": 0.039999,
     "end_time": "2022-04-29T18:02:13.885247",
     "exception": false,
     "start_time": "2022-04-29T18:02:13.845248",
     "status": "completed"
    },
    "tags": []
   },
   "outputs": [],
   "source": [
    "df = df.drop('location', axis=1)\n",
    "df1 = df1.drop('location', axis=1)"
   ]
  },
  {
   "cell_type": "code",
   "execution_count": 13,
   "id": "9486f914",
   "metadata": {
    "execution": {
     "iopub.execute_input": "2022-04-29T18:02:13.948278Z",
     "iopub.status.busy": "2022-04-29T18:02:13.947794Z",
     "iopub.status.idle": "2022-04-29T18:02:16.774223Z",
     "shell.execute_reply": "2022-04-29T18:02:16.773353Z"
    },
    "papermill": {
     "duration": 2.860679,
     "end_time": "2022-04-29T18:02:16.776903",
     "exception": false,
     "start_time": "2022-04-29T18:02:13.916224",
     "status": "completed"
    },
    "tags": []
   },
   "outputs": [],
   "source": [
    "import nltk\n",
    "from nltk import TweetTokenizer\n",
    "\n",
    "tokenizer = TweetTokenizer()\n",
    "\n",
    "df['tokens'] = [tokenizer.tokenize(item) for item in df.text]\n",
    "df1['tokens'] = [tokenizer.tokenize(item) for item in df1.text]"
   ]
  },
  {
   "cell_type": "code",
   "execution_count": 14,
   "id": "f13c7310",
   "metadata": {
    "execution": {
     "iopub.execute_input": "2022-04-29T18:02:16.839778Z",
     "iopub.status.busy": "2022-04-29T18:02:16.839492Z",
     "iopub.status.idle": "2022-04-29T18:02:19.890134Z",
     "shell.execute_reply": "2022-04-29T18:02:19.889069Z"
    },
    "papermill": {
     "duration": 3.085151,
     "end_time": "2022-04-29T18:02:19.892784",
     "exception": false,
     "start_time": "2022-04-29T18:02:16.807633",
     "status": "completed"
    },
    "tags": []
   },
   "outputs": [],
   "source": [
    "from nltk.stem import WordNetLemmatizer\n",
    "\n",
    "lemmatizer = WordNetLemmatizer()\n",
    "\n",
    "def lemmatize_item(item):\n",
    "    new_item = []\n",
    "    for x in item:\n",
    "        x = lemmatizer.lemmatize(x)\n",
    "        new_item.append(x)\n",
    "    return \" \".join(new_item)\n",
    "\n",
    "df['tokens'] = [lemmatize_item(item) for item in df.tokens]\n",
    "df1['tokens'] = [lemmatize_item(item) for item in df1.tokens]"
   ]
  },
  {
   "cell_type": "code",
   "execution_count": 15,
   "id": "4a43d7a0",
   "metadata": {
    "execution": {
     "iopub.execute_input": "2022-04-29T18:02:19.955862Z",
     "iopub.status.busy": "2022-04-29T18:02:19.955320Z",
     "iopub.status.idle": "2022-04-29T18:02:20.362361Z",
     "shell.execute_reply": "2022-04-29T18:02:20.361353Z"
    },
    "papermill": {
     "duration": 0.441738,
     "end_time": "2022-04-29T18:02:20.365030",
     "exception": false,
     "start_time": "2022-04-29T18:02:19.923292",
     "status": "completed"
    },
    "tags": []
   },
   "outputs": [],
   "source": [
    "from sklearn.feature_extraction.text import CountVectorizer\n",
    "\n",
    "vectorizer = CountVectorizer()\n",
    "\n",
    "\n",
    "X = vectorizer.fit_transform(df.text).toarray()\n",
    "y = df['target']"
   ]
  },
  {
   "cell_type": "code",
   "execution_count": 16,
   "id": "1fd2ff57",
   "metadata": {
    "execution": {
     "iopub.execute_input": "2022-04-29T18:02:20.429048Z",
     "iopub.status.busy": "2022-04-29T18:02:20.428777Z",
     "iopub.status.idle": "2022-04-29T18:02:21.074958Z",
     "shell.execute_reply": "2022-04-29T18:02:21.074029Z"
    },
    "papermill": {
     "duration": 0.68073,
     "end_time": "2022-04-29T18:02:21.077593",
     "exception": false,
     "start_time": "2022-04-29T18:02:20.396863",
     "status": "completed"
    },
    "tags": []
   },
   "outputs": [],
   "source": [
    "from sklearn.model_selection import train_test_split\n",
    "X_train, X_test, y_train, y_test = train_test_split(X, y, test_size = 0.3, random_state = 0)"
   ]
  },
  {
   "cell_type": "code",
   "execution_count": 17,
   "id": "eeec7da6",
   "metadata": {
    "execution": {
     "iopub.execute_input": "2022-04-29T18:02:21.147486Z",
     "iopub.status.busy": "2022-04-29T18:02:21.146959Z",
     "iopub.status.idle": "2022-04-29T18:02:21.153285Z",
     "shell.execute_reply": "2022-04-29T18:02:21.152635Z"
    },
    "papermill": {
     "duration": 0.043824,
     "end_time": "2022-04-29T18:02:21.155419",
     "exception": false,
     "start_time": "2022-04-29T18:02:21.111595",
     "status": "completed"
    },
    "tags": []
   },
   "outputs": [],
   "source": [
    "from sklearn.naive_bayes import MultinomialNB"
   ]
  },
  {
   "cell_type": "code",
   "execution_count": 18,
   "id": "a5345a6a",
   "metadata": {
    "execution": {
     "iopub.execute_input": "2022-04-29T18:02:21.223503Z",
     "iopub.status.busy": "2022-04-29T18:02:21.222898Z",
     "iopub.status.idle": "2022-04-29T18:02:22.408940Z",
     "shell.execute_reply": "2022-04-29T18:02:22.408038Z"
    },
    "papermill": {
     "duration": 1.223023,
     "end_time": "2022-04-29T18:02:22.411147",
     "exception": false,
     "start_time": "2022-04-29T18:02:21.188124",
     "status": "completed"
    },
    "tags": []
   },
   "outputs": [
    {
     "data": {
      "text/plain": [
       "MultinomialNB()"
      ]
     },
     "execution_count": 18,
     "metadata": {},
     "output_type": "execute_result"
    }
   ],
   "source": [
    "mb = MultinomialNB()\n",
    "mb.fit(X_train,y_train)"
   ]
  },
  {
   "cell_type": "code",
   "execution_count": 19,
   "id": "ba781e55",
   "metadata": {
    "execution": {
     "iopub.execute_input": "2022-04-29T18:02:22.475932Z",
     "iopub.status.busy": "2022-04-29T18:02:22.475478Z",
     "iopub.status.idle": "2022-04-29T18:02:22.666270Z",
     "shell.execute_reply": "2022-04-29T18:02:22.664935Z"
    },
    "papermill": {
     "duration": 0.227048,
     "end_time": "2022-04-29T18:02:22.669425",
     "exception": false,
     "start_time": "2022-04-29T18:02:22.442377",
     "status": "completed"
    },
    "tags": []
   },
   "outputs": [],
   "source": [
    "y_pred = mb.predict(X_test)"
   ]
  },
  {
   "cell_type": "code",
   "execution_count": 20,
   "id": "36830691",
   "metadata": {
    "execution": {
     "iopub.execute_input": "2022-04-29T18:02:22.781762Z",
     "iopub.status.busy": "2022-04-29T18:02:22.781424Z",
     "iopub.status.idle": "2022-04-29T18:02:22.786198Z",
     "shell.execute_reply": "2022-04-29T18:02:22.785122Z"
    },
    "papermill": {
     "duration": 0.059886,
     "end_time": "2022-04-29T18:02:22.788393",
     "exception": false,
     "start_time": "2022-04-29T18:02:22.728507",
     "status": "completed"
    },
    "tags": []
   },
   "outputs": [],
   "source": [
    "from sklearn.metrics import accuracy_score, classification_report, confusion_matrix"
   ]
  },
  {
   "cell_type": "code",
   "execution_count": 21,
   "id": "2112909d",
   "metadata": {
    "execution": {
     "iopub.execute_input": "2022-04-29T18:02:22.852202Z",
     "iopub.status.busy": "2022-04-29T18:02:22.851922Z",
     "iopub.status.idle": "2022-04-29T18:02:22.858970Z",
     "shell.execute_reply": "2022-04-29T18:02:22.857824Z"
    },
    "papermill": {
     "duration": 0.041392,
     "end_time": "2022-04-29T18:02:22.861118",
     "exception": false,
     "start_time": "2022-04-29T18:02:22.819726",
     "status": "completed"
    },
    "tags": []
   },
   "outputs": [
    {
     "name": "stdout",
     "output_type": "stream",
     "text": [
      "The accuracy of the model is : 0.8025394045534151\n"
     ]
    }
   ],
   "source": [
    "acc = accuracy_score(y_test,y_pred)\n",
    "print(\"The accuracy of the model is :\",acc)"
   ]
  },
  {
   "cell_type": "code",
   "execution_count": 22,
   "id": "a9a229f7",
   "metadata": {
    "execution": {
     "iopub.execute_input": "2022-04-29T18:02:22.947904Z",
     "iopub.status.busy": "2022-04-29T18:02:22.947074Z",
     "iopub.status.idle": "2022-04-29T18:02:22.956620Z",
     "shell.execute_reply": "2022-04-29T18:02:22.955742Z"
    },
    "papermill": {
     "duration": 0.043964,
     "end_time": "2022-04-29T18:02:22.958622",
     "exception": false,
     "start_time": "2022-04-29T18:02:22.914658",
     "status": "completed"
    },
    "tags": []
   },
   "outputs": [
    {
     "data": {
      "text/plain": [
       "array([[1157,  181],\n",
       "       [ 270,  676]])"
      ]
     },
     "execution_count": 22,
     "metadata": {},
     "output_type": "execute_result"
    }
   ],
   "source": [
    "cf = confusion_matrix(y_test,y_pred)\n",
    "cf"
   ]
  },
  {
   "cell_type": "code",
   "execution_count": 23,
   "id": "1419b6c9",
   "metadata": {
    "execution": {
     "iopub.execute_input": "2022-04-29T18:02:23.027369Z",
     "iopub.status.busy": "2022-04-29T18:02:23.027075Z",
     "iopub.status.idle": "2022-04-29T18:02:23.041009Z",
     "shell.execute_reply": "2022-04-29T18:02:23.040053Z"
    },
    "papermill": {
     "duration": 0.051513,
     "end_time": "2022-04-29T18:02:23.044368",
     "exception": false,
     "start_time": "2022-04-29T18:02:22.992855",
     "status": "completed"
    },
    "tags": []
   },
   "outputs": [
    {
     "name": "stdout",
     "output_type": "stream",
     "text": [
      "              precision    recall  f1-score   support\n",
      "\n",
      "           0       0.81      0.86      0.84      1338\n",
      "           1       0.79      0.71      0.75       946\n",
      "\n",
      "    accuracy                           0.80      2284\n",
      "   macro avg       0.80      0.79      0.79      2284\n",
      "weighted avg       0.80      0.80      0.80      2284\n",
      "\n"
     ]
    }
   ],
   "source": [
    "print(classification_report(y_test,y_pred))"
   ]
  },
  {
   "cell_type": "code",
   "execution_count": 24,
   "id": "b218c1ac",
   "metadata": {
    "execution": {
     "iopub.execute_input": "2022-04-29T18:02:23.111495Z",
     "iopub.status.busy": "2022-04-29T18:02:23.110673Z",
     "iopub.status.idle": "2022-04-29T18:02:23.246740Z",
     "shell.execute_reply": "2022-04-29T18:02:23.245766Z"
    },
    "papermill": {
     "duration": 0.171647,
     "end_time": "2022-04-29T18:02:23.249214",
     "exception": false,
     "start_time": "2022-04-29T18:02:23.077567",
     "status": "completed"
    },
    "tags": []
   },
   "outputs": [],
   "source": [
    "test = vectorizer.transform(df1.text).toarray()"
   ]
  },
  {
   "cell_type": "code",
   "execution_count": 25,
   "id": "7edb7543",
   "metadata": {
    "execution": {
     "iopub.execute_input": "2022-04-29T18:02:23.315146Z",
     "iopub.status.busy": "2022-04-29T18:02:23.314863Z",
     "iopub.status.idle": "2022-04-29T18:02:23.645067Z",
     "shell.execute_reply": "2022-04-29T18:02:23.643760Z"
    },
    "papermill": {
     "duration": 0.367599,
     "end_time": "2022-04-29T18:02:23.648926",
     "exception": false,
     "start_time": "2022-04-29T18:02:23.281327",
     "status": "completed"
    },
    "tags": []
   },
   "outputs": [],
   "source": [
    "pred_1 = mb.predict(test)"
   ]
  },
  {
   "cell_type": "code",
   "execution_count": 26,
   "id": "1add3a7d",
   "metadata": {
    "execution": {
     "iopub.execute_input": "2022-04-29T18:02:23.768317Z",
     "iopub.status.busy": "2022-04-29T18:02:23.767997Z",
     "iopub.status.idle": "2022-04-29T18:02:23.781565Z",
     "shell.execute_reply": "2022-04-29T18:02:23.780706Z"
    },
    "papermill": {
     "duration": 0.07317,
     "end_time": "2022-04-29T18:02:23.783991",
     "exception": false,
     "start_time": "2022-04-29T18:02:23.710821",
     "status": "completed"
    },
    "tags": []
   },
   "outputs": [],
   "source": [
    "sub = pd.read_csv(\"/kaggle/input/nlp-getting-started/sample_submission.csv\")"
   ]
  },
  {
   "cell_type": "code",
   "execution_count": 27,
   "id": "37a8e878",
   "metadata": {
    "execution": {
     "iopub.execute_input": "2022-04-29T18:02:23.852437Z",
     "iopub.status.busy": "2022-04-29T18:02:23.852139Z",
     "iopub.status.idle": "2022-04-29T18:02:23.860580Z",
     "shell.execute_reply": "2022-04-29T18:02:23.860036Z"
    },
    "papermill": {
     "duration": 0.045222,
     "end_time": "2022-04-29T18:02:23.862485",
     "exception": false,
     "start_time": "2022-04-29T18:02:23.817263",
     "status": "completed"
    },
    "tags": []
   },
   "outputs": [
    {
     "data": {
      "text/html": [
       "<div>\n",
       "<style scoped>\n",
       "    .dataframe tbody tr th:only-of-type {\n",
       "        vertical-align: middle;\n",
       "    }\n",
       "\n",
       "    .dataframe tbody tr th {\n",
       "        vertical-align: top;\n",
       "    }\n",
       "\n",
       "    .dataframe thead th {\n",
       "        text-align: right;\n",
       "    }\n",
       "</style>\n",
       "<table border=\"1\" class=\"dataframe\">\n",
       "  <thead>\n",
       "    <tr style=\"text-align: right;\">\n",
       "      <th></th>\n",
       "      <th>id</th>\n",
       "      <th>target</th>\n",
       "    </tr>\n",
       "  </thead>\n",
       "  <tbody>\n",
       "    <tr>\n",
       "      <th>0</th>\n",
       "      <td>0</td>\n",
       "      <td>0</td>\n",
       "    </tr>\n",
       "    <tr>\n",
       "      <th>1</th>\n",
       "      <td>2</td>\n",
       "      <td>0</td>\n",
       "    </tr>\n",
       "    <tr>\n",
       "      <th>2</th>\n",
       "      <td>3</td>\n",
       "      <td>0</td>\n",
       "    </tr>\n",
       "    <tr>\n",
       "      <th>3</th>\n",
       "      <td>9</td>\n",
       "      <td>0</td>\n",
       "    </tr>\n",
       "    <tr>\n",
       "      <th>4</th>\n",
       "      <td>11</td>\n",
       "      <td>0</td>\n",
       "    </tr>\n",
       "  </tbody>\n",
       "</table>\n",
       "</div>"
      ],
      "text/plain": [
       "   id  target\n",
       "0   0       0\n",
       "1   2       0\n",
       "2   3       0\n",
       "3   9       0\n",
       "4  11       0"
      ]
     },
     "execution_count": 27,
     "metadata": {},
     "output_type": "execute_result"
    }
   ],
   "source": [
    "sub.head()"
   ]
  },
  {
   "cell_type": "code",
   "execution_count": 28,
   "id": "9c75dcb2",
   "metadata": {
    "execution": {
     "iopub.execute_input": "2022-04-29T18:02:23.932209Z",
     "iopub.status.busy": "2022-04-29T18:02:23.931427Z",
     "iopub.status.idle": "2022-04-29T18:02:23.945055Z",
     "shell.execute_reply": "2022-04-29T18:02:23.944113Z"
    },
    "papermill": {
     "duration": 0.052464,
     "end_time": "2022-04-29T18:02:23.947423",
     "exception": false,
     "start_time": "2022-04-29T18:02:23.894959",
     "status": "completed"
    },
    "tags": []
   },
   "outputs": [],
   "source": [
    "sub['target'] = pred_1\n",
    "sub.to_csv('submission.csv',index=False)"
   ]
  },
  {
   "cell_type": "code",
   "execution_count": 29,
   "id": "ce0a5a94",
   "metadata": {
    "execution": {
     "iopub.execute_input": "2022-04-29T18:02:24.032082Z",
     "iopub.status.busy": "2022-04-29T18:02:24.031670Z",
     "iopub.status.idle": "2022-04-29T18:02:24.047918Z",
     "shell.execute_reply": "2022-04-29T18:02:24.046827Z"
    },
    "papermill": {
     "duration": 0.062492,
     "end_time": "2022-04-29T18:02:24.050100",
     "exception": false,
     "start_time": "2022-04-29T18:02:23.987608",
     "status": "completed"
    },
    "tags": []
   },
   "outputs": [
    {
     "data": {
      "text/html": [
       "<div>\n",
       "<style scoped>\n",
       "    .dataframe tbody tr th:only-of-type {\n",
       "        vertical-align: middle;\n",
       "    }\n",
       "\n",
       "    .dataframe tbody tr th {\n",
       "        vertical-align: top;\n",
       "    }\n",
       "\n",
       "    .dataframe thead th {\n",
       "        text-align: right;\n",
       "    }\n",
       "</style>\n",
       "<table border=\"1\" class=\"dataframe\">\n",
       "  <thead>\n",
       "    <tr style=\"text-align: right;\">\n",
       "      <th></th>\n",
       "      <th>id</th>\n",
       "      <th>target</th>\n",
       "    </tr>\n",
       "  </thead>\n",
       "  <tbody>\n",
       "    <tr>\n",
       "      <th>0</th>\n",
       "      <td>0</td>\n",
       "      <td>1</td>\n",
       "    </tr>\n",
       "    <tr>\n",
       "      <th>1</th>\n",
       "      <td>2</td>\n",
       "      <td>0</td>\n",
       "    </tr>\n",
       "    <tr>\n",
       "      <th>2</th>\n",
       "      <td>3</td>\n",
       "      <td>1</td>\n",
       "    </tr>\n",
       "    <tr>\n",
       "      <th>3</th>\n",
       "      <td>9</td>\n",
       "      <td>1</td>\n",
       "    </tr>\n",
       "    <tr>\n",
       "      <th>4</th>\n",
       "      <td>11</td>\n",
       "      <td>1</td>\n",
       "    </tr>\n",
       "    <tr>\n",
       "      <th>...</th>\n",
       "      <td>...</td>\n",
       "      <td>...</td>\n",
       "    </tr>\n",
       "    <tr>\n",
       "      <th>3258</th>\n",
       "      <td>10861</td>\n",
       "      <td>1</td>\n",
       "    </tr>\n",
       "    <tr>\n",
       "      <th>3259</th>\n",
       "      <td>10865</td>\n",
       "      <td>1</td>\n",
       "    </tr>\n",
       "    <tr>\n",
       "      <th>3260</th>\n",
       "      <td>10868</td>\n",
       "      <td>1</td>\n",
       "    </tr>\n",
       "    <tr>\n",
       "      <th>3261</th>\n",
       "      <td>10874</td>\n",
       "      <td>1</td>\n",
       "    </tr>\n",
       "    <tr>\n",
       "      <th>3262</th>\n",
       "      <td>10875</td>\n",
       "      <td>1</td>\n",
       "    </tr>\n",
       "  </tbody>\n",
       "</table>\n",
       "<p>3263 rows × 2 columns</p>\n",
       "</div>"
      ],
      "text/plain": [
       "         id  target\n",
       "0         0       1\n",
       "1         2       0\n",
       "2         3       1\n",
       "3         9       1\n",
       "4        11       1\n",
       "...     ...     ...\n",
       "3258  10861       1\n",
       "3259  10865       1\n",
       "3260  10868       1\n",
       "3261  10874       1\n",
       "3262  10875       1\n",
       "\n",
       "[3263 rows x 2 columns]"
      ]
     },
     "execution_count": 29,
     "metadata": {},
     "output_type": "execute_result"
    }
   ],
   "source": [
    "r =pd.read_csv(\"submission.csv\")\n",
    "r"
   ]
  }
 ],
 "metadata": {
  "kernelspec": {
   "display_name": "Python 3",
   "language": "python",
   "name": "python3"
  },
  "language_info": {
   "codemirror_mode": {
    "name": "ipython",
    "version": 3
   },
   "file_extension": ".py",
   "mimetype": "text/x-python",
   "name": "python",
   "nbconvert_exporter": "python",
   "pygments_lexer": "ipython3",
   "version": "3.7.12"
  },
  "papermill": {
   "default_parameters": {},
   "duration": 22.386951,
   "end_time": "2022-04-29T18:02:25.115757",
   "environment_variables": {},
   "exception": null,
   "input_path": "__notebook__.ipynb",
   "output_path": "__notebook__.ipynb",
   "parameters": {},
   "start_time": "2022-04-29T18:02:02.728806",
   "version": "2.3.4"
  }
 },
 "nbformat": 4,
 "nbformat_minor": 5
}
